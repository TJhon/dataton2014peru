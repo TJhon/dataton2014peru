{
  "cells": [
    {
      "cell_type": "markdown",
      "id": "ee03b340",
      "metadata": {},
      "source": [
        "<!-- https://expresateperu.datosabiertos.gob.pe/dataset/registro-de-interrupciones-del-servicio-de-agua-y-alcantarillado-imprevistas-y-programadas-0#{view-graph:{graphOptions:{hooks:{processOffset:{},bindEvents:{}}}},graphOptions:{hooks:{processOffset:{},bindEvents:{}}},view-grid:{columnsWidth:[{column:!FECHAINICIO,width:137}]}} -->\n",
        "\n",
        "## Registro de interrupciones del servicio de agua y alcantarillado imprevistas y programadas reportadas por las empresas prestadoras a la Sunass\n",
        "\n",
        "El registro de interrupciones es una herramienta informática implementada por la Sunass para que las empresas prestadoras comuniquen al regulador la ocurrencia de las interrupciones programadas e imprevistas de los servicios de agua potable y alcantarillado. Se trata de un registro obligatorio, según lo establece el numeral 81.2 del artículo 81 del Texto Único Ordenado del Reglamento de Calidad de la Prestación de los Servicios de Saneamiento (TUO del RCPSS) (DS Nº 058-2023-SUNASS-CD).\n",
        "\n",
        "Este registro se ha ido consolidando desde su creación, incrementándose anualmente el número de interrupciones registradas, a medida que las empresas prestadoras han venido tomando conciencia de la importancia de este reporte.\n",
        "\n",
        "El contenido mínimo de la comunicación a la Sunass está en el DS Nº 058-2023-SUNASS-CD.\n",
        "\n",
        "El registro de interrupciones muestra:\n",
        "\n",
        "Nombre de la empresa prestadora\n",
        "Ubicación de la interrupción registrada (departamento, provincia y distrito)\n",
        "Número de conexiones domiciliarias y unidades de uso afectados por la interrupción registrada.\n",
        "Número de camiones cisterna o puntos de abastecimiento provisional empleados durante la interrupción registrada.\n"
      ]
    },
    {
      "cell_type": "code",
      "execution_count": null,
      "id": "1bafb89a",
      "metadata": {},
      "outputs": [],
      "source": [
        "import pandas as pd, numpy as np"
      ]
    },
    {
      "cell_type": "code",
      "execution_count": null,
      "id": "a77cf566",
      "metadata": {},
      "outputs": [],
      "source": [
        "interrupciones = pd.read_csv(\"https://expresateperu.datosabiertos.gob.pe/sites/default/files/Interrupciones_Dataset.csv\")\n",
        "interrupciones.head()"
      ]
    },
    {
      "cell_type": "code",
      "execution_count": null,
      "id": "fce26711",
      "metadata": {},
      "outputs": [],
      "source": [
        "# interrupciones.columns\n",
        "\n",
        "df = interrupciones.copy()\n",
        "df.columns = [col.lower() for col in df.columns]\n",
        "\n",
        "\n",
        "def to_timestamp(col_date, col_hour, data = df, format_col = '%Y%m%d', format_hour = '%H:%M'):\n",
        "\n",
        "    data[col_date] = pd.to_datetime(data[col_date], format = format_col)\n",
        "    data[col_hour] = pd.to_datetime(data[col_hour], format = format_hour).dt.time\n",
        "    return pd.to_datetime(data[col_date].dt.date.astype(str) + ' ' + data[col_hour].astype(str))\n",
        "\n",
        "df['fin'] = to_timestamp('fechafin', 'horafin')\n",
        "df['inicio'] = to_timestamp('fechainicio', 'horainicio') \n",
        "df['total_time'] = df['fin'] - df['inicio']\n",
        "df['total_secs'] = (df.total_time).dt.total_seconds()\n",
        "df['total_h'] = df['total_secs'] / 3600\n",
        "df['year_inicio'] = df.inicio.dt.year\n",
        "\n",
        "# Normalizando \n",
        "\n",
        "def norm_col(col, data = df, q = 0.999):\n",
        "\n",
        "    max_ = np.quantile(data[col], q)\n",
        "    return np.where(data[col]> max_h, max_h, data[col])\n",
        "\n",
        "df['total_h_n'] = norm_col('total_h')\n",
        "df['numconexdom_n'] = norm_col('numconexdom')\n",
        "df['unidadesuso_n'] = norm_col('unidadesuso')\n",
        "\n",
        "# interrupcion\n",
        "df = df.drop(columns=[\n",
        "    'fechainicio', 'horainicio', 'fechafin', 'horafin',\n",
        "    'idinterrupcion', 'motivointerrupcion'\n",
        "    ]).query('total_secs > 0')\n",
        "\n",
        "fill_aff = {'numconexdom': 0, 'unidadesuso': 0, 'numcamionespuntos': 0}\n",
        "\n",
        "df.fillna(value=fill_aff, inplace=True)\n",
        "\n",
        "df = df.sort_values('total_time', ascending=True).query('numconexdom > 0')\n",
        "df.head(2)"
      ]
    },
    {
      "cell_type": "code",
      "execution_count": null,
      "id": "ea77b459",
      "metadata": {},
      "outputs": [],
      "source": [
        "df.sort_values('unidadesuso')"
      ]
    },
    {
      "cell_type": "markdown",
      "id": "235cb77d",
      "metadata": {},
      "source": [
        "# Descriptivo\n",
        "\n",
        "## Frecuencia de interrupciones\n",
        "\n",
        "[x] Empresa Con Mayor frecuencia de interrupciones\n",
        "[x] Que tipo de interrupcion es mas comun\n",
        "[x] Zonas geograficas ocurren mas interrupciones\n",
        "\n",
        "## Duracion\n",
        "\n",
        "[] Cual es la ducacion promedio de una interrupcion\n",
        "[] Diferencia entre ducacion de interrupciones, entre programadas e imprevistas\n",
        "\n",
        "## Impacto\n",
        "\n",
        "[] Promedio de conexciones y unidades de uso afectadas por interrupciones\n",
        "[] Relacion entre la duracion de interrupcion y el numero de conexciones/.unidades afectadas\n",
        "[] Varia el impacto segun el tipo de servicio\n",
        "\n",
        "# Comparativo\n",
        "\n",
        "[] Duracion de las interrupciones y las empresas prestadoras\n",
        "[] Evolucion de la frecuencias de interrupciones, patrones estacionales?\n",
        "[] Duracion de la interrupcion y el numero de camiones cistena utilizados\n"
      ]
    },
    {
      "cell_type": "code",
      "execution_count": null,
      "id": "98ead884",
      "metadata": {},
      "outputs": [],
      "source": [
        "# env\n",
        "\n",
        "eps = 'eps'\n",
        "tipo_int = 'tipointerrupcion'\n",
        "tipo_ser = 'tiposervicio'\n",
        "n_conex = 'numconexdom'\n",
        "n_unidad = 'unidadesuso'\n",
        "camiones = 'numcamionespuntos'\n",
        "year = 'year_inicio'\n",
        "dist = ['departamento', 'provincia', 'distrito']"
      ]
    },
    {
      "cell_type": "code",
      "execution_count": null,
      "id": "6b8d11d7",
      "metadata": {},
      "outputs": [],
      "source": [
        "# Empresa Con Mayor frecuencia de interrupciones por anios\n",
        "_n_top = 5\n",
        "freq_int = df.groupby([year, eps, tipo_int]).size().reset_index(name = \"n\").sort_values([year, 'n'], ascending = False)\n",
        "freq_int_eps=freq_int.groupby([year, tipo_int]).head(_n_top)"
      ]
    },
    {
      "cell_type": "code",
      "execution_count": null,
      "id": "fc3ead48",
      "metadata": {},
      "outputs": [],
      "source": [
        "# Que tipo de interrupcion es mas comun\n",
        "df1 = df.groupby([year, tipo_int]).size().reset_index(name = 'n')\n",
        "\n",
        "relacion_tipo = df1.pivot(index='year_inicio', columns='tipointerrupcion', values='n').reset_index()\n",
        "\n",
        "# Calcular la relación entre interrupciones imprevistas y programadas\n",
        "relacion_tipo['relacion'] = relacion_tipo['IMPREVISTA'] / relacion_tipo['PROGRAMADA']\n",
        "relacion_tipo"
      ]
    },
    {
      "cell_type": "code",
      "execution_count": null,
      "id": "4529fffb",
      "metadata": {},
      "outputs": [],
      "source": [
        "zonas_int = df.groupby([year] + dist).size().reset_index(name = 'n').sort_values([year, 'n'], ascending = False)\n",
        "zonas_int.head(3)"
      ]
    },
    {
      "cell_type": "code",
      "execution_count": null,
      "id": "c36bd0af",
      "metadata": {},
      "outputs": [],
      "source": [
        "import matplotlib.pyplot as plt"
      ]
    },
    {
      "cell_type": "code",
      "execution_count": null,
      "id": "5d9ac49e",
      "metadata": {},
      "outputs": [],
      "source": [
        "df.head()"
      ]
    },
    {
      "cell_type": "code",
      "execution_count": null,
      "id": "b2e223c5",
      "metadata": {},
      "outputs": [],
      "source": [
        "plt.scatter(\"total_h\", \"numconexdom\", data = df)"
      ]
    },
    {
      "cell_type": "code",
      "execution_count": null,
      "id": "5ac3186d",
      "metadata": {},
      "outputs": [],
      "source": [
        "plt.scatter(df['numconexdom'], df['total_h_n'])"
      ]
    },
    {
      "cell_type": "code",
      "execution_count": null,
      "id": "4facda40",
      "metadata": {},
      "outputs": [],
      "source": [
        "df['year_inicio'].unique()"
      ]
    },
    {
      "cell_type": "code",
      "execution_count": null,
      "id": "98778011",
      "metadata": {},
      "outputs": [],
      "source": [
        "df.head()"
      ]
    },
    {
      "cell_type": "code",
      "execution_count": null,
      "id": "ed969f42",
      "metadata": {},
      "outputs": [],
      "source": [
        "df['eps'].unique()"
      ]
    }
  ],
  "metadata": {
    "kernelspec": {
      "display_name": "Python 3 (ipykernel)",
      "language": "python",
      "name": "python3"
    },
    "language_info": {
      "name": "python",
      "version": "3.10.9"
    }
  },
  "nbformat": 4,
  "nbformat_minor": 5
}
